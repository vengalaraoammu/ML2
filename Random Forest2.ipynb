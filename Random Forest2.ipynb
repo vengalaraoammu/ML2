{
 "cells": [
  {
   "cell_type": "code",
   "execution_count": 1,
   "id": "9c771536",
   "metadata": {},
   "outputs": [],
   "source": [
    "import numpy as np\n",
    "import pandas as pd"
   ]
  },
  {
   "cell_type": "code",
   "execution_count": 2,
   "id": "2e31487d",
   "metadata": {},
   "outputs": [
    {
     "data": {
      "text/html": [
       "<div>\n",
       "<style scoped>\n",
       "    .dataframe tbody tr th:only-of-type {\n",
       "        vertical-align: middle;\n",
       "    }\n",
       "\n",
       "    .dataframe tbody tr th {\n",
       "        vertical-align: top;\n",
       "    }\n",
       "\n",
       "    .dataframe thead th {\n",
       "        text-align: right;\n",
       "    }\n",
       "</style>\n",
       "<table border=\"1\" class=\"dataframe\">\n",
       "  <thead>\n",
       "    <tr style=\"text-align: right;\">\n",
       "      <th></th>\n",
       "      <th>Id</th>\n",
       "      <th>SepalLengthCm</th>\n",
       "      <th>SepalWidthCm</th>\n",
       "      <th>PetalLengthCm</th>\n",
       "      <th>PetalWidthCm</th>\n",
       "      <th>Species</th>\n",
       "    </tr>\n",
       "  </thead>\n",
       "  <tbody>\n",
       "    <tr>\n",
       "      <th>0</th>\n",
       "      <td>1</td>\n",
       "      <td>5.1</td>\n",
       "      <td>3.5</td>\n",
       "      <td>1.4</td>\n",
       "      <td>0.2</td>\n",
       "      <td>Iris-setosa</td>\n",
       "    </tr>\n",
       "    <tr>\n",
       "      <th>1</th>\n",
       "      <td>2</td>\n",
       "      <td>4.9</td>\n",
       "      <td>3.0</td>\n",
       "      <td>1.4</td>\n",
       "      <td>0.2</td>\n",
       "      <td>Iris-setosa</td>\n",
       "    </tr>\n",
       "    <tr>\n",
       "      <th>2</th>\n",
       "      <td>3</td>\n",
       "      <td>4.7</td>\n",
       "      <td>3.2</td>\n",
       "      <td>1.3</td>\n",
       "      <td>0.2</td>\n",
       "      <td>Iris-setosa</td>\n",
       "    </tr>\n",
       "    <tr>\n",
       "      <th>3</th>\n",
       "      <td>4</td>\n",
       "      <td>4.6</td>\n",
       "      <td>3.1</td>\n",
       "      <td>1.5</td>\n",
       "      <td>0.2</td>\n",
       "      <td>Iris-setosa</td>\n",
       "    </tr>\n",
       "    <tr>\n",
       "      <th>4</th>\n",
       "      <td>5</td>\n",
       "      <td>5.0</td>\n",
       "      <td>3.6</td>\n",
       "      <td>1.4</td>\n",
       "      <td>0.2</td>\n",
       "      <td>Iris-setosa</td>\n",
       "    </tr>\n",
       "    <tr>\n",
       "      <th>...</th>\n",
       "      <td>...</td>\n",
       "      <td>...</td>\n",
       "      <td>...</td>\n",
       "      <td>...</td>\n",
       "      <td>...</td>\n",
       "      <td>...</td>\n",
       "    </tr>\n",
       "    <tr>\n",
       "      <th>145</th>\n",
       "      <td>146</td>\n",
       "      <td>6.7</td>\n",
       "      <td>3.0</td>\n",
       "      <td>5.2</td>\n",
       "      <td>2.3</td>\n",
       "      <td>Iris-virginica</td>\n",
       "    </tr>\n",
       "    <tr>\n",
       "      <th>146</th>\n",
       "      <td>147</td>\n",
       "      <td>6.3</td>\n",
       "      <td>2.5</td>\n",
       "      <td>5.0</td>\n",
       "      <td>1.9</td>\n",
       "      <td>Iris-virginica</td>\n",
       "    </tr>\n",
       "    <tr>\n",
       "      <th>147</th>\n",
       "      <td>148</td>\n",
       "      <td>6.5</td>\n",
       "      <td>3.0</td>\n",
       "      <td>5.2</td>\n",
       "      <td>2.0</td>\n",
       "      <td>Iris-virginica</td>\n",
       "    </tr>\n",
       "    <tr>\n",
       "      <th>148</th>\n",
       "      <td>149</td>\n",
       "      <td>6.2</td>\n",
       "      <td>3.4</td>\n",
       "      <td>5.4</td>\n",
       "      <td>2.3</td>\n",
       "      <td>Iris-virginica</td>\n",
       "    </tr>\n",
       "    <tr>\n",
       "      <th>149</th>\n",
       "      <td>150</td>\n",
       "      <td>5.9</td>\n",
       "      <td>3.0</td>\n",
       "      <td>5.1</td>\n",
       "      <td>1.8</td>\n",
       "      <td>Iris-virginica</td>\n",
       "    </tr>\n",
       "  </tbody>\n",
       "</table>\n",
       "<p>150 rows × 6 columns</p>\n",
       "</div>"
      ],
      "text/plain": [
       "      Id  SepalLengthCm  SepalWidthCm  PetalLengthCm  PetalWidthCm  \\\n",
       "0      1            5.1           3.5            1.4           0.2   \n",
       "1      2            4.9           3.0            1.4           0.2   \n",
       "2      3            4.7           3.2            1.3           0.2   \n",
       "3      4            4.6           3.1            1.5           0.2   \n",
       "4      5            5.0           3.6            1.4           0.2   \n",
       "..   ...            ...           ...            ...           ...   \n",
       "145  146            6.7           3.0            5.2           2.3   \n",
       "146  147            6.3           2.5            5.0           1.9   \n",
       "147  148            6.5           3.0            5.2           2.0   \n",
       "148  149            6.2           3.4            5.4           2.3   \n",
       "149  150            5.9           3.0            5.1           1.8   \n",
       "\n",
       "            Species  \n",
       "0       Iris-setosa  \n",
       "1       Iris-setosa  \n",
       "2       Iris-setosa  \n",
       "3       Iris-setosa  \n",
       "4       Iris-setosa  \n",
       "..              ...  \n",
       "145  Iris-virginica  \n",
       "146  Iris-virginica  \n",
       "147  Iris-virginica  \n",
       "148  Iris-virginica  \n",
       "149  Iris-virginica  \n",
       "\n",
       "[150 rows x 6 columns]"
      ]
     },
     "execution_count": 2,
     "metadata": {},
     "output_type": "execute_result"
    }
   ],
   "source": [
    "data=pd.read_csv('C:/Users/DELL/Desktop/DATA/CodeinGrad/ML/Iris.csv')\n",
    "data"
   ]
  },
  {
   "cell_type": "code",
   "execution_count": 19,
   "id": "2f53411b",
   "metadata": {},
   "outputs": [
    {
     "data": {
      "text/html": [
       "<div>\n",
       "<style scoped>\n",
       "    .dataframe tbody tr th:only-of-type {\n",
       "        vertical-align: middle;\n",
       "    }\n",
       "\n",
       "    .dataframe tbody tr th {\n",
       "        vertical-align: top;\n",
       "    }\n",
       "\n",
       "    .dataframe thead th {\n",
       "        text-align: right;\n",
       "    }\n",
       "</style>\n",
       "<table border=\"1\" class=\"dataframe\">\n",
       "  <thead>\n",
       "    <tr style=\"text-align: right;\">\n",
       "      <th></th>\n",
       "      <th>Id</th>\n",
       "      <th>SepalLengthCm</th>\n",
       "      <th>SepalWidthCm</th>\n",
       "      <th>PetalLengthCm</th>\n",
       "      <th>PetalWidthCm</th>\n",
       "      <th>Species</th>\n",
       "    </tr>\n",
       "  </thead>\n",
       "  <tbody>\n",
       "    <tr>\n",
       "      <th>0</th>\n",
       "      <td>1</td>\n",
       "      <td>5.1</td>\n",
       "      <td>3.5</td>\n",
       "      <td>1.4</td>\n",
       "      <td>0.2</td>\n",
       "      <td>Iris-setosa</td>\n",
       "    </tr>\n",
       "    <tr>\n",
       "      <th>1</th>\n",
       "      <td>2</td>\n",
       "      <td>4.9</td>\n",
       "      <td>3.0</td>\n",
       "      <td>1.4</td>\n",
       "      <td>0.2</td>\n",
       "      <td>Iris-setosa</td>\n",
       "    </tr>\n",
       "    <tr>\n",
       "      <th>2</th>\n",
       "      <td>3</td>\n",
       "      <td>4.7</td>\n",
       "      <td>3.2</td>\n",
       "      <td>1.3</td>\n",
       "      <td>0.2</td>\n",
       "      <td>Iris-setosa</td>\n",
       "    </tr>\n",
       "    <tr>\n",
       "      <th>3</th>\n",
       "      <td>4</td>\n",
       "      <td>4.6</td>\n",
       "      <td>3.1</td>\n",
       "      <td>1.5</td>\n",
       "      <td>0.2</td>\n",
       "      <td>Iris-setosa</td>\n",
       "    </tr>\n",
       "    <tr>\n",
       "      <th>4</th>\n",
       "      <td>5</td>\n",
       "      <td>5.0</td>\n",
       "      <td>3.6</td>\n",
       "      <td>1.4</td>\n",
       "      <td>0.2</td>\n",
       "      <td>Iris-setosa</td>\n",
       "    </tr>\n",
       "  </tbody>\n",
       "</table>\n",
       "</div>"
      ],
      "text/plain": [
       "   Id  SepalLengthCm  SepalWidthCm  PetalLengthCm  PetalWidthCm      Species\n",
       "0   1            5.1           3.5            1.4           0.2  Iris-setosa\n",
       "1   2            4.9           3.0            1.4           0.2  Iris-setosa\n",
       "2   3            4.7           3.2            1.3           0.2  Iris-setosa\n",
       "3   4            4.6           3.1            1.5           0.2  Iris-setosa\n",
       "4   5            5.0           3.6            1.4           0.2  Iris-setosa"
      ]
     },
     "execution_count": 19,
     "metadata": {},
     "output_type": "execute_result"
    }
   ],
   "source": [
    "data.head()"
   ]
  },
  {
   "cell_type": "code",
   "execution_count": 20,
   "id": "33ca01b5",
   "metadata": {},
   "outputs": [],
   "source": [
    "Features = data.iloc[:,:-1].values\n",
    "Labels = data.iloc[:,-1].values"
   ]
  },
  {
   "cell_type": "code",
   "execution_count": 21,
   "id": "1c2757f7",
   "metadata": {},
   "outputs": [],
   "source": [
    "from sklearn.model_selection import train_test_split\n",
    "X_train, X_test, y_train, y_test = train_test_split(Features,Labels)"
   ]
  },
  {
   "cell_type": "code",
   "execution_count": 24,
   "id": "4ee13504",
   "metadata": {},
   "outputs": [],
   "source": [
    "from sklearn.feature_selection import SelectKBest,f_classif,chi2\n",
    "\n",
    "sk = SelectKBest(chi2, k=2)\n",
    "F_B=sk.fit_transform(Features,Labels)"
   ]
  },
  {
   "cell_type": "code",
   "execution_count": 25,
   "id": "11b6a7d6",
   "metadata": {},
   "outputs": [
    {
     "data": {
      "text/plain": [
       "array([[  1. ,   1.4],\n",
       "       [  2. ,   1.4],\n",
       "       [  3. ,   1.3],\n",
       "       [  4. ,   1.5],\n",
       "       [  5. ,   1.4],\n",
       "       [  6. ,   1.7],\n",
       "       [  7. ,   1.4],\n",
       "       [  8. ,   1.5],\n",
       "       [  9. ,   1.4],\n",
       "       [ 10. ,   1.5],\n",
       "       [ 11. ,   1.5],\n",
       "       [ 12. ,   1.6],\n",
       "       [ 13. ,   1.4],\n",
       "       [ 14. ,   1.1],\n",
       "       [ 15. ,   1.2],\n",
       "       [ 16. ,   1.5],\n",
       "       [ 17. ,   1.3],\n",
       "       [ 18. ,   1.4],\n",
       "       [ 19. ,   1.7],\n",
       "       [ 20. ,   1.5],\n",
       "       [ 21. ,   1.7],\n",
       "       [ 22. ,   1.5],\n",
       "       [ 23. ,   1. ],\n",
       "       [ 24. ,   1.7],\n",
       "       [ 25. ,   1.9],\n",
       "       [ 26. ,   1.6],\n",
       "       [ 27. ,   1.6],\n",
       "       [ 28. ,   1.5],\n",
       "       [ 29. ,   1.4],\n",
       "       [ 30. ,   1.6],\n",
       "       [ 31. ,   1.6],\n",
       "       [ 32. ,   1.5],\n",
       "       [ 33. ,   1.5],\n",
       "       [ 34. ,   1.4],\n",
       "       [ 35. ,   1.5],\n",
       "       [ 36. ,   1.2],\n",
       "       [ 37. ,   1.3],\n",
       "       [ 38. ,   1.5],\n",
       "       [ 39. ,   1.3],\n",
       "       [ 40. ,   1.5],\n",
       "       [ 41. ,   1.3],\n",
       "       [ 42. ,   1.3],\n",
       "       [ 43. ,   1.3],\n",
       "       [ 44. ,   1.6],\n",
       "       [ 45. ,   1.9],\n",
       "       [ 46. ,   1.4],\n",
       "       [ 47. ,   1.6],\n",
       "       [ 48. ,   1.4],\n",
       "       [ 49. ,   1.5],\n",
       "       [ 50. ,   1.4],\n",
       "       [ 51. ,   4.7],\n",
       "       [ 52. ,   4.5],\n",
       "       [ 53. ,   4.9],\n",
       "       [ 54. ,   4. ],\n",
       "       [ 55. ,   4.6],\n",
       "       [ 56. ,   4.5],\n",
       "       [ 57. ,   4.7],\n",
       "       [ 58. ,   3.3],\n",
       "       [ 59. ,   4.6],\n",
       "       [ 60. ,   3.9],\n",
       "       [ 61. ,   3.5],\n",
       "       [ 62. ,   4.2],\n",
       "       [ 63. ,   4. ],\n",
       "       [ 64. ,   4.7],\n",
       "       [ 65. ,   3.6],\n",
       "       [ 66. ,   4.4],\n",
       "       [ 67. ,   4.5],\n",
       "       [ 68. ,   4.1],\n",
       "       [ 69. ,   4.5],\n",
       "       [ 70. ,   3.9],\n",
       "       [ 71. ,   4.8],\n",
       "       [ 72. ,   4. ],\n",
       "       [ 73. ,   4.9],\n",
       "       [ 74. ,   4.7],\n",
       "       [ 75. ,   4.3],\n",
       "       [ 76. ,   4.4],\n",
       "       [ 77. ,   4.8],\n",
       "       [ 78. ,   5. ],\n",
       "       [ 79. ,   4.5],\n",
       "       [ 80. ,   3.5],\n",
       "       [ 81. ,   3.8],\n",
       "       [ 82. ,   3.7],\n",
       "       [ 83. ,   3.9],\n",
       "       [ 84. ,   5.1],\n",
       "       [ 85. ,   4.5],\n",
       "       [ 86. ,   4.5],\n",
       "       [ 87. ,   4.7],\n",
       "       [ 88. ,   4.4],\n",
       "       [ 89. ,   4.1],\n",
       "       [ 90. ,   4. ],\n",
       "       [ 91. ,   4.4],\n",
       "       [ 92. ,   4.6],\n",
       "       [ 93. ,   4. ],\n",
       "       [ 94. ,   3.3],\n",
       "       [ 95. ,   4.2],\n",
       "       [ 96. ,   4.2],\n",
       "       [ 97. ,   4.2],\n",
       "       [ 98. ,   4.3],\n",
       "       [ 99. ,   3. ],\n",
       "       [100. ,   4.1],\n",
       "       [101. ,   6. ],\n",
       "       [102. ,   5.1],\n",
       "       [103. ,   5.9],\n",
       "       [104. ,   5.6],\n",
       "       [105. ,   5.8],\n",
       "       [106. ,   6.6],\n",
       "       [107. ,   4.5],\n",
       "       [108. ,   6.3],\n",
       "       [109. ,   5.8],\n",
       "       [110. ,   6.1],\n",
       "       [111. ,   5.1],\n",
       "       [112. ,   5.3],\n",
       "       [113. ,   5.5],\n",
       "       [114. ,   5. ],\n",
       "       [115. ,   5.1],\n",
       "       [116. ,   5.3],\n",
       "       [117. ,   5.5],\n",
       "       [118. ,   6.7],\n",
       "       [119. ,   6.9],\n",
       "       [120. ,   5. ],\n",
       "       [121. ,   5.7],\n",
       "       [122. ,   4.9],\n",
       "       [123. ,   6.7],\n",
       "       [124. ,   4.9],\n",
       "       [125. ,   5.7],\n",
       "       [126. ,   6. ],\n",
       "       [127. ,   4.8],\n",
       "       [128. ,   4.9],\n",
       "       [129. ,   5.6],\n",
       "       [130. ,   5.8],\n",
       "       [131. ,   6.1],\n",
       "       [132. ,   6.4],\n",
       "       [133. ,   5.6],\n",
       "       [134. ,   5.1],\n",
       "       [135. ,   5.6],\n",
       "       [136. ,   6.1],\n",
       "       [137. ,   5.6],\n",
       "       [138. ,   5.5],\n",
       "       [139. ,   4.8],\n",
       "       [140. ,   5.4],\n",
       "       [141. ,   5.6],\n",
       "       [142. ,   5.1],\n",
       "       [143. ,   5.1],\n",
       "       [144. ,   5.9],\n",
       "       [145. ,   5.7],\n",
       "       [146. ,   5.2],\n",
       "       [147. ,   5. ],\n",
       "       [148. ,   5.2],\n",
       "       [149. ,   5.4],\n",
       "       [150. ,   5.1]])"
      ]
     },
     "execution_count": 25,
     "metadata": {},
     "output_type": "execute_result"
    }
   ],
   "source": [
    "F_B"
   ]
  },
  {
   "cell_type": "code",
   "execution_count": 26,
   "id": "2bc80242",
   "metadata": {},
   "outputs": [],
   "source": [
    "from sklearn.ensemble import VotingClassifier,RandomForestClassifier\n",
    "from sklearn.tree import DecisionTreeClassifier\n",
    "from sklearn.linear_model import LogisticRegression\n",
    "from sklearn.neighbors import KNeighborsClassifier"
   ]
  },
  {
   "cell_type": "code",
   "execution_count": 27,
   "id": "ca1294d9",
   "metadata": {},
   "outputs": [],
   "source": [
    "rf=RandomForestClassifier()\n",
    "dt=DecisionTreeClassifier()\n",
    "lg=LogisticRegression()"
   ]
  },
  {
   "cell_type": "code",
   "execution_count": 29,
   "id": "adf6fa87",
   "metadata": {},
   "outputs": [],
   "source": [
    "vc=VotingClassifier(estimators=[(\"rf\",rf),(\"dt\",dt),(\"lg\",lg)],voting=\"hard\")"
   ]
  },
  {
   "cell_type": "code",
   "execution_count": 30,
   "id": "0af9c450",
   "metadata": {},
   "outputs": [
    {
     "name": "stderr",
     "output_type": "stream",
     "text": [
      "C:\\Users\\DELL\\anaconda3\\lib\\site-packages\\sklearn\\linear_model\\_logistic.py:763: ConvergenceWarning: lbfgs failed to converge (status=1):\n",
      "STOP: TOTAL NO. of ITERATIONS REACHED LIMIT.\n",
      "\n",
      "Increase the number of iterations (max_iter) or scale the data as shown in:\n",
      "    https://scikit-learn.org/stable/modules/preprocessing.html\n",
      "Please also refer to the documentation for alternative solver options:\n",
      "    https://scikit-learn.org/stable/modules/linear_model.html#logistic-regression\n",
      "  n_iter_i = _check_optimize_result(\n"
     ]
    },
    {
     "data": {
      "text/plain": [
       "VotingClassifier(estimators=[('rf', RandomForestClassifier()),\n",
       "                             ('dt', DecisionTreeClassifier()),\n",
       "                             ('lg', LogisticRegression())])"
      ]
     },
     "execution_count": 30,
     "metadata": {},
     "output_type": "execute_result"
    }
   ],
   "source": [
    "vc.fit(X_train,y_train)"
   ]
  },
  {
   "cell_type": "code",
   "execution_count": 31,
   "id": "cb926cc0",
   "metadata": {},
   "outputs": [],
   "source": [
    "pred=vc.predict(X_test)"
   ]
  },
  {
   "cell_type": "code",
   "execution_count": 33,
   "id": "6d1d66b9",
   "metadata": {},
   "outputs": [
    {
     "name": "stdout",
     "output_type": "stream",
     "text": [
      "                 precision    recall  f1-score   support\n",
      "\n",
      "    Iris-setosa       1.00      1.00      1.00        14\n",
      "Iris-versicolor       1.00      1.00      1.00        14\n",
      " Iris-virginica       1.00      1.00      1.00        10\n",
      "\n",
      "       accuracy                           1.00        38\n",
      "      macro avg       1.00      1.00      1.00        38\n",
      "   weighted avg       1.00      1.00      1.00        38\n",
      "\n"
     ]
    }
   ],
   "source": [
    "from sklearn.metrics import classification_report\n",
    "print(classification_report(pred,y_test))"
   ]
  },
  {
   "cell_type": "code",
   "execution_count": 34,
   "id": "052ccfbc",
   "metadata": {},
   "outputs": [],
   "source": [
    "vc_soft=VotingClassifier(estimators=[(\"rf\",rf),(\"dt\",dt),(\"lg\",lg)],voting=\"soft\",weights=[0.5,0.2,0.3])"
   ]
  },
  {
   "cell_type": "code",
   "execution_count": 35,
   "id": "a895c5a1",
   "metadata": {},
   "outputs": [
    {
     "name": "stderr",
     "output_type": "stream",
     "text": [
      "C:\\Users\\DELL\\anaconda3\\lib\\site-packages\\sklearn\\linear_model\\_logistic.py:763: ConvergenceWarning: lbfgs failed to converge (status=1):\n",
      "STOP: TOTAL NO. of ITERATIONS REACHED LIMIT.\n",
      "\n",
      "Increase the number of iterations (max_iter) or scale the data as shown in:\n",
      "    https://scikit-learn.org/stable/modules/preprocessing.html\n",
      "Please also refer to the documentation for alternative solver options:\n",
      "    https://scikit-learn.org/stable/modules/linear_model.html#logistic-regression\n",
      "  n_iter_i = _check_optimize_result(\n"
     ]
    },
    {
     "data": {
      "text/plain": [
       "VotingClassifier(estimators=[('rf', RandomForestClassifier()),\n",
       "                             ('dt', DecisionTreeClassifier()),\n",
       "                             ('lg', LogisticRegression())],\n",
       "                 voting='soft', weights=[0.5, 0.2, 0.3])"
      ]
     },
     "execution_count": 35,
     "metadata": {},
     "output_type": "execute_result"
    }
   ],
   "source": [
    "vc_soft.fit(X_train,y_train)"
   ]
  },
  {
   "cell_type": "code",
   "execution_count": 36,
   "id": "637e5a05",
   "metadata": {},
   "outputs": [],
   "source": [
    "vc_pred=vc_soft.predict(X_test)"
   ]
  },
  {
   "cell_type": "code",
   "execution_count": 37,
   "id": "699fbd69",
   "metadata": {},
   "outputs": [
    {
     "name": "stdout",
     "output_type": "stream",
     "text": [
      "                 precision    recall  f1-score   support\n",
      "\n",
      "    Iris-setosa       1.00      1.00      1.00        14\n",
      "Iris-versicolor       1.00      1.00      1.00        14\n",
      " Iris-virginica       1.00      1.00      1.00        10\n",
      "\n",
      "       accuracy                           1.00        38\n",
      "      macro avg       1.00      1.00      1.00        38\n",
      "   weighted avg       1.00      1.00      1.00        38\n",
      "\n"
     ]
    }
   ],
   "source": [
    "from sklearn.metrics import classification_report\n",
    "print(classification_report(vc_pred,y_test))"
   ]
  },
  {
   "cell_type": "code",
   "execution_count": null,
   "id": "80c11c34",
   "metadata": {},
   "outputs": [],
   "source": []
  }
 ],
 "metadata": {
  "kernelspec": {
   "display_name": "Python 3",
   "language": "python",
   "name": "python3"
  },
  "language_info": {
   "codemirror_mode": {
    "name": "ipython",
    "version": 3
   },
   "file_extension": ".py",
   "mimetype": "text/x-python",
   "name": "python",
   "nbconvert_exporter": "python",
   "pygments_lexer": "ipython3",
   "version": "3.8.8"
  }
 },
 "nbformat": 4,
 "nbformat_minor": 5
}
